{
 "cells": [
  {
   "cell_type": "code",
   "execution_count": 1,
   "id": "fa80b467",
   "metadata": {},
   "outputs": [],
   "source": [
    "import numpy as np\n",
    "import pandas as pd\n",
    "import matplotlib.pyplot as plt\n",
    "import seaborn as sns\n",
    "import tensorflow as tf\n",
    "\n",
    "from sklearn.model_selection import train_test_split\n",
    "from sklearn.metrics import accuracy_score, confusion_matrix, classification_report\n",
    "from sklearn.preprocessing import StandardScaler, LabelEncoder"
   ]
  },
  {
   "cell_type": "code",
   "execution_count": 2,
   "id": "c501252a",
   "metadata": {},
   "outputs": [],
   "source": [
    "# Hyper-parameters:\n",
    "\n",
    "RANDOM_STATE = 32\n",
    "TEST_SIZE = 0.2\n",
    "EPOCHS = 10\n",
    "ALPHA = 0.001\n",
    "NOISE = 0.2\n",
    "\n",
    "np.random.seed(RANDOM_STATE)"
   ]
  },
  {
   "cell_type": "code",
   "execution_count": 3,
   "id": "3c7fb499",
   "metadata": {},
   "outputs": [],
   "source": [
    "# Parameters for matplotlib:\n",
    "\n",
    "params = {'legend.fontsize' : 'medium',\n",
    "          'figure.figsize': (15,8),\n",
    "          'axes.labelsize' : 'medium',\n",
    "          'axes.titlesize': 'medium',\n",
    "          'xtick.labelsize': 'medium',\n",
    "          'ytick.labelsize': 'medium'\n",
    "}\n",
    "\n",
    "CMAP = 'bwr' \n",
    "plt.rcParams.update(params)"
   ]
  },
  {
   "cell_type": "code",
   "execution_count": 16,
   "id": "9a452150",
   "metadata": {},
   "outputs": [],
   "source": [
    "# Helper function:\n",
    "\n",
    "\n",
    "def fn_plot_hist(hist_df):\n",
    "    \n",
    "    # Instantiate plt object with 1 row two columns\n",
    "    fig, axes = plt.subplots(1,2 , figsize = (15,6)) \n",
    "\n",
    "    # Propertiesfor matplotlib.patch.Patch \n",
    "    props = dict(boxstyle='round', \n",
    "                 facecolor='aqua', \n",
    "                 alpha=0.4)\n",
    "\n",
    "    ax = axes[0]\n",
    "\n",
    "    # plot loss columns of the dataframe\n",
    "    hist_df.plot(y = ['loss','val_loss'], ax = ax, colormap=CMAP)\n",
    "\n",
    "    # Mark min loss and min val_loss\n",
    "    lossmin = hist_df['loss'].min()\n",
    "    testmin = hist_df['val_loss'].min()\n",
    "\n",
    "    # Little beautification\n",
    "    txtstr = \"Min Loss: \\n Training : {:7.4f}\\n Testing   : {:7.4f}\".format(lossmin,\n",
    "                                                                            testmin) #text to plot\n",
    "\n",
    "    # Place a text box in upper left in axis coords\n",
    "    ax.text(0.4, 0.95, txtstr, transform=ax.transAxes, fontsize=14,\n",
    "            verticalalignment='top', bbox=props)\n",
    "\n",
    "    # set labels on the axes\n",
    "    ax.set_xlabel(\"Epochs\")\n",
    "\n",
    "    ax.set_ylabel(\"Loss\")\n",
    "\n",
    "    # show grid\n",
    "    ax.grid();\n",
    "\n",
    "    # for second figure\n",
    "    ax = axes[1]\n",
    "\n",
    "    # plot accuracy and val_accuracy\n",
    "    hist_df.plot( y = ['accuracy', 'val_accuracy'], ax = ax, colormap=CMAP)\n",
    "    \n",
    "\n",
    "    # get max accuracies\n",
    "    accmax = hist_df['accuracy'].max()\n",
    "    testmax = hist_df['val_accuracy'].max()\n",
    "    \n",
    "    # Little beautification\n",
    "    txtstr = \"Max Accuracy: \\n Training : {:7.4f}\\n Testing   : {:7.4f}\".format(accmax,\n",
    "                                                                                testmax) #text to plot\n",
    "\n",
    "    # place a text box in upper left in axis coords\n",
    "    ax.text(0.4, 0.5, txtstr, transform=ax.transAxes, fontsize=14,\n",
    "            verticalalignment='top', bbox=props)\n",
    "\n",
    "    # Mark labels\n",
    "    ax.set_xlabel(\"Epochs\")\n",
    "    ax.set_ylabel(\"Accuracy\")\n",
    "    \n",
    "    # Show grid\n",
    "    ax.grid();\n",
    "    \n",
    "    # Organise subplot params so that the subplots fit in to the figure area\n",
    "    plt.tight_layout()"
   ]
  },
  {
   "cell_type": "code",
   "execution_count": 5,
   "id": "db78ed70",
   "metadata": {},
   "outputs": [
    {
     "data": {
      "text/html": [
       "<div>\n",
       "<style scoped>\n",
       "    .dataframe tbody tr th:only-of-type {\n",
       "        vertical-align: middle;\n",
       "    }\n",
       "\n",
       "    .dataframe tbody tr th {\n",
       "        vertical-align: top;\n",
       "    }\n",
       "\n",
       "    .dataframe thead th {\n",
       "        text-align: right;\n",
       "    }\n",
       "</style>\n",
       "<table border=\"1\" class=\"dataframe\">\n",
       "  <thead>\n",
       "    <tr style=\"text-align: right;\">\n",
       "      <th></th>\n",
       "      <th>Class</th>\n",
       "      <th>Alcohol</th>\n",
       "      <th>Malic acid</th>\n",
       "      <th>Ash</th>\n",
       "      <th>Alcalinity of ash</th>\n",
       "      <th>Magnesium</th>\n",
       "      <th>Total phenols</th>\n",
       "      <th>Flavanoids</th>\n",
       "      <th>Nonflavanoid phenols</th>\n",
       "      <th>Proanthocyanins</th>\n",
       "      <th>Color intensity</th>\n",
       "      <th>Hue</th>\n",
       "      <th>OD280/OD315 of diluted wines</th>\n",
       "      <th>Proline</th>\n",
       "    </tr>\n",
       "  </thead>\n",
       "  <tbody>\n",
       "    <tr>\n",
       "      <th>0</th>\n",
       "      <td>1</td>\n",
       "      <td>14.23</td>\n",
       "      <td>1.71</td>\n",
       "      <td>2.43</td>\n",
       "      <td>15.6</td>\n",
       "      <td>127</td>\n",
       "      <td>2.80</td>\n",
       "      <td>3.06</td>\n",
       "      <td>0.28</td>\n",
       "      <td>2.29</td>\n",
       "      <td>5.64</td>\n",
       "      <td>1.04</td>\n",
       "      <td>3.92</td>\n",
       "      <td>1065</td>\n",
       "    </tr>\n",
       "    <tr>\n",
       "      <th>1</th>\n",
       "      <td>1</td>\n",
       "      <td>13.20</td>\n",
       "      <td>1.78</td>\n",
       "      <td>2.14</td>\n",
       "      <td>11.2</td>\n",
       "      <td>100</td>\n",
       "      <td>2.65</td>\n",
       "      <td>2.76</td>\n",
       "      <td>0.26</td>\n",
       "      <td>1.28</td>\n",
       "      <td>4.38</td>\n",
       "      <td>1.05</td>\n",
       "      <td>3.40</td>\n",
       "      <td>1050</td>\n",
       "    </tr>\n",
       "    <tr>\n",
       "      <th>2</th>\n",
       "      <td>1</td>\n",
       "      <td>13.16</td>\n",
       "      <td>2.36</td>\n",
       "      <td>2.67</td>\n",
       "      <td>18.6</td>\n",
       "      <td>101</td>\n",
       "      <td>2.80</td>\n",
       "      <td>3.24</td>\n",
       "      <td>0.30</td>\n",
       "      <td>2.81</td>\n",
       "      <td>5.68</td>\n",
       "      <td>1.03</td>\n",
       "      <td>3.17</td>\n",
       "      <td>1185</td>\n",
       "    </tr>\n",
       "    <tr>\n",
       "      <th>3</th>\n",
       "      <td>1</td>\n",
       "      <td>14.37</td>\n",
       "      <td>1.95</td>\n",
       "      <td>2.50</td>\n",
       "      <td>16.8</td>\n",
       "      <td>113</td>\n",
       "      <td>3.85</td>\n",
       "      <td>3.49</td>\n",
       "      <td>0.24</td>\n",
       "      <td>2.18</td>\n",
       "      <td>7.80</td>\n",
       "      <td>0.86</td>\n",
       "      <td>3.45</td>\n",
       "      <td>1480</td>\n",
       "    </tr>\n",
       "    <tr>\n",
       "      <th>4</th>\n",
       "      <td>1</td>\n",
       "      <td>13.24</td>\n",
       "      <td>2.59</td>\n",
       "      <td>2.87</td>\n",
       "      <td>21.0</td>\n",
       "      <td>118</td>\n",
       "      <td>2.80</td>\n",
       "      <td>2.69</td>\n",
       "      <td>0.39</td>\n",
       "      <td>1.82</td>\n",
       "      <td>4.32</td>\n",
       "      <td>1.04</td>\n",
       "      <td>2.93</td>\n",
       "      <td>735</td>\n",
       "    </tr>\n",
       "    <tr>\n",
       "      <th>...</th>\n",
       "      <td>...</td>\n",
       "      <td>...</td>\n",
       "      <td>...</td>\n",
       "      <td>...</td>\n",
       "      <td>...</td>\n",
       "      <td>...</td>\n",
       "      <td>...</td>\n",
       "      <td>...</td>\n",
       "      <td>...</td>\n",
       "      <td>...</td>\n",
       "      <td>...</td>\n",
       "      <td>...</td>\n",
       "      <td>...</td>\n",
       "      <td>...</td>\n",
       "    </tr>\n",
       "    <tr>\n",
       "      <th>173</th>\n",
       "      <td>3</td>\n",
       "      <td>13.71</td>\n",
       "      <td>5.65</td>\n",
       "      <td>2.45</td>\n",
       "      <td>20.5</td>\n",
       "      <td>95</td>\n",
       "      <td>1.68</td>\n",
       "      <td>0.61</td>\n",
       "      <td>0.52</td>\n",
       "      <td>1.06</td>\n",
       "      <td>7.70</td>\n",
       "      <td>0.64</td>\n",
       "      <td>1.74</td>\n",
       "      <td>740</td>\n",
       "    </tr>\n",
       "    <tr>\n",
       "      <th>174</th>\n",
       "      <td>3</td>\n",
       "      <td>13.40</td>\n",
       "      <td>3.91</td>\n",
       "      <td>2.48</td>\n",
       "      <td>23.0</td>\n",
       "      <td>102</td>\n",
       "      <td>1.80</td>\n",
       "      <td>0.75</td>\n",
       "      <td>0.43</td>\n",
       "      <td>1.41</td>\n",
       "      <td>7.30</td>\n",
       "      <td>0.70</td>\n",
       "      <td>1.56</td>\n",
       "      <td>750</td>\n",
       "    </tr>\n",
       "    <tr>\n",
       "      <th>175</th>\n",
       "      <td>3</td>\n",
       "      <td>13.27</td>\n",
       "      <td>4.28</td>\n",
       "      <td>2.26</td>\n",
       "      <td>20.0</td>\n",
       "      <td>120</td>\n",
       "      <td>1.59</td>\n",
       "      <td>0.69</td>\n",
       "      <td>0.43</td>\n",
       "      <td>1.35</td>\n",
       "      <td>10.20</td>\n",
       "      <td>0.59</td>\n",
       "      <td>1.56</td>\n",
       "      <td>835</td>\n",
       "    </tr>\n",
       "    <tr>\n",
       "      <th>176</th>\n",
       "      <td>3</td>\n",
       "      <td>13.17</td>\n",
       "      <td>2.59</td>\n",
       "      <td>2.37</td>\n",
       "      <td>20.0</td>\n",
       "      <td>120</td>\n",
       "      <td>1.65</td>\n",
       "      <td>0.68</td>\n",
       "      <td>0.53</td>\n",
       "      <td>1.46</td>\n",
       "      <td>9.30</td>\n",
       "      <td>0.60</td>\n",
       "      <td>1.62</td>\n",
       "      <td>840</td>\n",
       "    </tr>\n",
       "    <tr>\n",
       "      <th>177</th>\n",
       "      <td>3</td>\n",
       "      <td>14.13</td>\n",
       "      <td>4.10</td>\n",
       "      <td>2.74</td>\n",
       "      <td>24.5</td>\n",
       "      <td>96</td>\n",
       "      <td>2.05</td>\n",
       "      <td>0.76</td>\n",
       "      <td>0.56</td>\n",
       "      <td>1.35</td>\n",
       "      <td>9.20</td>\n",
       "      <td>0.61</td>\n",
       "      <td>1.60</td>\n",
       "      <td>560</td>\n",
       "    </tr>\n",
       "  </tbody>\n",
       "</table>\n",
       "<p>178 rows × 14 columns</p>\n",
       "</div>"
      ],
      "text/plain": [
       "     Class  Alcohol  Malic acid   Ash  Alcalinity of ash  Magnesium  \\\n",
       "0        1    14.23        1.71  2.43               15.6        127   \n",
       "1        1    13.20        1.78  2.14               11.2        100   \n",
       "2        1    13.16        2.36  2.67               18.6        101   \n",
       "3        1    14.37        1.95  2.50               16.8        113   \n",
       "4        1    13.24        2.59  2.87               21.0        118   \n",
       "..     ...      ...         ...   ...                ...        ...   \n",
       "173      3    13.71        5.65  2.45               20.5         95   \n",
       "174      3    13.40        3.91  2.48               23.0        102   \n",
       "175      3    13.27        4.28  2.26               20.0        120   \n",
       "176      3    13.17        2.59  2.37               20.0        120   \n",
       "177      3    14.13        4.10  2.74               24.5         96   \n",
       "\n",
       "     Total phenols  Flavanoids  Nonflavanoid phenols  Proanthocyanins  \\\n",
       "0             2.80        3.06                  0.28             2.29   \n",
       "1             2.65        2.76                  0.26             1.28   \n",
       "2             2.80        3.24                  0.30             2.81   \n",
       "3             3.85        3.49                  0.24             2.18   \n",
       "4             2.80        2.69                  0.39             1.82   \n",
       "..             ...         ...                   ...              ...   \n",
       "173           1.68        0.61                  0.52             1.06   \n",
       "174           1.80        0.75                  0.43             1.41   \n",
       "175           1.59        0.69                  0.43             1.35   \n",
       "176           1.65        0.68                  0.53             1.46   \n",
       "177           2.05        0.76                  0.56             1.35   \n",
       "\n",
       "     Color intensity   Hue  OD280/OD315 of diluted wines  Proline  \n",
       "0               5.64  1.04                          3.92     1065  \n",
       "1               4.38  1.05                          3.40     1050  \n",
       "2               5.68  1.03                          3.17     1185  \n",
       "3               7.80  0.86                          3.45     1480  \n",
       "4               4.32  1.04                          2.93      735  \n",
       "..               ...   ...                           ...      ...  \n",
       "173             7.70  0.64                          1.74      740  \n",
       "174             7.30  0.70                          1.56      750  \n",
       "175            10.20  0.59                          1.56      835  \n",
       "176             9.30  0.60                          1.62      840  \n",
       "177             9.20  0.61                          1.60      560  \n",
       "\n",
       "[178 rows x 14 columns]"
      ]
     },
     "execution_count": 5,
     "metadata": {},
     "output_type": "execute_result"
    }
   ],
   "source": [
    "# import the dataset:\n",
    "\n",
    "df = pd.read_csv('wine.data.csv')\n",
    "df"
   ]
  },
  {
   "cell_type": "code",
   "execution_count": 6,
   "id": "b320bfa2",
   "metadata": {},
   "outputs": [],
   "source": [
    "# Define the X and y:\n",
    "\n",
    "y = df['Class'].to_numpy()\n",
    "X = df.drop('Class', axis = 1).to_numpy()"
   ]
  },
  {
   "cell_type": "code",
   "execution_count": 7,
   "id": "88608aad",
   "metadata": {},
   "outputs": [
    {
     "data": {
      "text/plain": [
       "((142, 13), (142,), (36, 13), (36,))"
      ]
     },
     "execution_count": 7,
     "metadata": {},
     "output_type": "execute_result"
    }
   ],
   "source": [
    "# split the dataset:\n",
    "\n",
    "X_train, X_test, y_train, y_test = train_test_split(X,y,\n",
    "                                                   stratify= y,\n",
    "                                                   test_size = TEST_SIZE,\n",
    "                                                   random_state= RANDOM_STATE)\n",
    "\n",
    "X_train.shape, y_train.shape, X_test.shape, y_test.shape"
   ]
  },
  {
   "cell_type": "code",
   "execution_count": 8,
   "id": "81ebe179",
   "metadata": {},
   "outputs": [],
   "source": [
    "# Scandardscaler on X:\n",
    "\n",
    "sc = StandardScaler()\n",
    "\n",
    "X_train = sc.fit_transform(X_train)\n",
    "X_test = sc.transform(X_test)\n",
    "\n",
    "# labelencoder on y:\n",
    "\n",
    "le = LabelEncoder()\n",
    "y_train = le.fit_transform(y_train)\n",
    "y_test = le.transform(y_test)"
   ]
  },
  {
   "cell_type": "raw",
   "id": "cd8d41ef",
   "metadata": {},
   "source": [
    "Declare your model\n",
    "\n",
    "\n",
    "Specify kernel initializer.\n",
    "\n",
    "Prepare model using Sequential class of TensorFlow with one Hidden Layer and one output layer\n"
   ]
  },
  {
   "cell_type": "code",
   "execution_count": 9,
   "id": "419cee51",
   "metadata": {},
   "outputs": [],
   "source": [
    "# initialize the kernel :\n",
    "\n",
    "krnl_init = tf.keras.initializers.GlorotUniform(seed= RANDOM_STATE)\n"
   ]
  },
  {
   "cell_type": "code",
   "execution_count": 10,
   "id": "4a6a8474",
   "metadata": {},
   "outputs": [],
   "source": [
    "# Define the sequencial model:\n",
    "\n",
    "model = tf.keras.Sequential([\n",
    "    \n",
    "    # input layer:\n",
    "    tf.keras.layers.Dense(8, activation='tanh', kernel_initializer=krnl_init),\n",
    "    \n",
    "    # output layer:\n",
    "    tf.keras.layers.Dense(3, kernel_initializer=krnl_init)\n",
    "\n",
    "])\n"
   ]
  },
  {
   "cell_type": "code",
   "execution_count": 11,
   "id": "2c81d1fd",
   "metadata": {},
   "outputs": [],
   "source": [
    "# define loss function:\n",
    "\n",
    "loss_fn = tf.keras.losses.SparseCategoricalCrossentropy(from_logits= True)\n"
   ]
  },
  {
   "cell_type": "code",
   "execution_count": 12,
   "id": "9589eed9",
   "metadata": {},
   "outputs": [],
   "source": [
    "#compile the model:\n",
    "\n",
    "model.compile(optimizer = 'Adam',\n",
    "             loss = loss_fn,\n",
    "             metrics = ['accuracy'])"
   ]
  },
  {
   "cell_type": "code",
   "execution_count": 14,
   "id": "b848d0c3",
   "metadata": {},
   "outputs": [
    {
     "name": "stdout",
     "output_type": "stream",
     "text": [
      "Epoch 1/10\n",
      "5/5 - 1s - 189ms/step - accuracy: 0.7746 - loss: 0.7498 - val_accuracy: 0.7778 - val_loss: 0.7604\n",
      "Epoch 2/10\n",
      "5/5 - 0s - 18ms/step - accuracy: 0.7817 - loss: 0.7205 - val_accuracy: 0.8056 - val_loss: 0.7331\n",
      "Epoch 3/10\n",
      "5/5 - 0s - 34ms/step - accuracy: 0.8169 - loss: 0.6922 - val_accuracy: 0.8333 - val_loss: 0.7072\n",
      "Epoch 4/10\n",
      "5/5 - 0s - 40ms/step - accuracy: 0.8380 - loss: 0.6651 - val_accuracy: 0.8333 - val_loss: 0.6823\n",
      "Epoch 5/10\n",
      "5/5 - 0s - 38ms/step - accuracy: 0.8451 - loss: 0.6401 - val_accuracy: 0.8333 - val_loss: 0.6587\n",
      "Epoch 6/10\n",
      "5/5 - 0s - 44ms/step - accuracy: 0.8873 - loss: 0.6156 - val_accuracy: 0.8333 - val_loss: 0.6364\n",
      "Epoch 7/10\n",
      "5/5 - 0s - 44ms/step - accuracy: 0.9085 - loss: 0.5932 - val_accuracy: 0.8333 - val_loss: 0.6151\n",
      "Epoch 8/10\n",
      "5/5 - 0s - 43ms/step - accuracy: 0.9155 - loss: 0.5718 - val_accuracy: 0.8333 - val_loss: 0.5946\n",
      "Epoch 9/10\n",
      "5/5 - 0s - 47ms/step - accuracy: 0.9225 - loss: 0.5508 - val_accuracy: 0.8333 - val_loss: 0.5758\n",
      "Epoch 10/10\n",
      "5/5 - 0s - 43ms/step - accuracy: 0.9225 - loss: 0.5315 - val_accuracy: 0.8333 - val_loss: 0.5578\n"
     ]
    }
   ],
   "source": [
    "# fit the model:\n",
    "\n",
    "hist = model.fit(X_train, y_train, \n",
    "                  validation_data = [X_test, y_test],\n",
    "                  epochs = EPOCHS,\n",
    "                  verbose = 2)\n"
   ]
  },
  {
   "cell_type": "code",
   "execution_count": 21,
   "id": "9c708620",
   "metadata": {},
   "outputs": [
    {
     "name": "stdout",
     "output_type": "stream",
     "text": [
      "\u001b[1m2/2\u001b[0m \u001b[32m━━━━━━━━━━━━━━━━━━━━\u001b[0m\u001b[37m\u001b[0m \u001b[1m0s\u001b[0m 18ms/step\n"
     ]
    }
   ],
   "source": [
    "y_pred = model.predict(X_test)\n"
   ]
  },
  {
   "cell_type": "code",
   "execution_count": 22,
   "id": "fb97e9fc",
   "metadata": {},
   "outputs": [
    {
     "data": {
      "text/plain": [
       "array([1, 1, 2, 1, 1, 2, 0, 0, 1, 1, 0, 2, 0, 1, 2, 0, 0, 2, 1, 1, 0, 0,\n",
       "       1, 0, 1, 1, 1, 2, 1, 1, 0, 1, 1, 1, 2, 0], dtype=int64)"
      ]
     },
     "execution_count": 22,
     "metadata": {},
     "output_type": "execute_result"
    }
   ],
   "source": [
    "# find hishest y_pred position:\n",
    "\n",
    "y_pred.argmax(axis = 1)"
   ]
  },
  {
   "cell_type": "code",
   "execution_count": 23,
   "id": "dc549d3f",
   "metadata": {},
   "outputs": [
    {
     "data": {
      "text/plain": [
       "0.8333333333333334"
      ]
     },
     "execution_count": 23,
     "metadata": {},
     "output_type": "execute_result"
    }
   ],
   "source": [
    "# find accuracy score:\n",
    "\n",
    "accuracy_score(y_test, y_pred.argmax(axis = 1))"
   ]
  },
  {
   "cell_type": "code",
   "execution_count": 24,
   "id": "4b6d4977",
   "metadata": {},
   "outputs": [
    {
     "name": "stdout",
     "output_type": "stream",
     "text": [
      "              precision    recall  f1-score   support\n",
      "\n",
      "           0       1.00      0.92      0.96        12\n",
      "           1       0.72      0.93      0.81        14\n",
      "           2       0.86      0.60      0.71        10\n",
      "\n",
      "    accuracy                           0.83        36\n",
      "   macro avg       0.86      0.82      0.82        36\n",
      "weighted avg       0.85      0.83      0.83        36\n",
      "\n"
     ]
    }
   ],
   "source": [
    "# classification report:\n",
    "\n",
    "print(classification_report(y_test, y_pred.argmax(axis = 1)))"
   ]
  },
  {
   "cell_type": "code",
   "execution_count": 25,
   "id": "1a39c521",
   "metadata": {},
   "outputs": [
    {
     "name": "stdout",
     "output_type": "stream",
     "text": [
      "[[11  1  0]\n",
      " [ 0 13  1]\n",
      " [ 0  4  6]]\n"
     ]
    }
   ],
   "source": [
    "# confustion matrix:\n",
    "\n",
    "print(confusion_matrix(y_test, y_pred.argmax(axis = 1)))"
   ]
  },
  {
   "cell_type": "code",
   "execution_count": 26,
   "id": "cd89dd06",
   "metadata": {},
   "outputs": [
    {
     "data": {
      "image/png": "[encoded data removed]",
      "text/plain": [
       "<Figure size 1500x600 with 2 Axes>"
      ]
     },
     "metadata": {},
     "output_type": "display_data"
    }
   ],
   "source": [
    "# plot the loss curve:\n",
    "\n",
    "res = pd.DataFrame(hist.history)\n",
    "fn_plot_hist(res)"
   ]
  },
  {
   "cell_type": "code",
   "execution_count": null,
   "id": "cf39b041",
   "metadata": {},
   "outputs": [],
   "source": []
  }
 ],
 "metadata": {
  "kernelspec": {
   "display_name": "Python 3 (ipykernel)",
   "language": "python",
   "name": "python3"
  },
  "language_info": {
   "codemirror_mode": {
    "name": "ipython",
    "version": 3
   },
   "file_extension": ".py",
   "mimetype": "text/x-python",
   "name": "python",
   "nbconvert_exporter": "python",
   "pygments_lexer": "ipython3",
   "version": "3.11.7"
  }
 },
 "nbformat": 4,
 "nbformat_minor": 5
}
